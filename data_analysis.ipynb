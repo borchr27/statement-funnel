{
 "cells": [
  {
   "cell_type": "code",
   "id": "initial_id",
   "metadata": {
    "collapsed": true
   },
   "source": [
    "import pandas as pd\n",
    "\n",
    "from program.constants import SECRETS_DIR\n",
    "\n",
    "df = pd.read_csv(f\"/{SECRETS_DIR}/private/budget.csv\", sep=',', quotechar='\"')\n",
    "YEAR = 2024\n",
    "df.head()"
   ],
   "outputs": [],
   "execution_count": null
  },
  {
   "metadata": {},
   "cell_type": "code",
   "source": [
    "import matplotlib.pyplot as plt\n",
    "import pandas as pd\n",
    "import matplotlib as mpl\n",
    "\n",
    "# Convert date column to datetime\n",
    "df['date'] = pd.to_datetime(df['date'])\n",
    "\n",
    "# Filter for 2024 data\n",
    "df_2024 = df[df['date'].dt.year == YEAR]\n",
    "\n",
    "# Create monthly totals by tag\n",
    "monthly_by_tag = df_2024.groupby([df_2024['date'].dt.strftime('%Y-%m'), 'tag'])['amount_usd'].sum().unstack()\n",
    "\n",
    "# Fix the previous warning, get unique colors explicitly updated here:\n",
    "colors = mpl.colormaps[\"tab20\"].colors[:monthly_by_tag.shape[1]]\n",
    "\n",
    "# Plot correctly with the new colormap method\n",
    "ax = monthly_by_tag.plot(kind='bar', stacked=True, figsize=(10, 6), color=colors)\n",
    "plt.title(f'Monthly Spending by Category - {YEAR}')\n",
    "plt.xlabel('Month')\n",
    "plt.ylabel('Amount (USD)')\n",
    "plt.xticks(rotation=45)\n",
    "plt.legend(title='Category', bbox_to_anchor=(1.05, 1), loc='upper left')\n",
    "plt.tight_layout()\n",
    "plt.show()\n",
    "\n",
    "# Display numerical totals\n",
    "print(\"\\nMonthly Totals by Category:\")\n",
    "print(monthly_by_tag)"
   ],
   "id": "e7d6505e9aed68f9",
   "outputs": [],
   "execution_count": null
  },
  {
   "metadata": {},
   "cell_type": "code",
   "source": [
    "# Calculate monthly savings (income - expenses)\n",
    "df_2024 = df[df['date'].dt.year == YEAR]\n",
    "\n",
    "# Separate income and expenses\n",
    "income = df_2024[df_2024['amount_usd'] > 0].groupby(df_2024['date'].dt.strftime('%Y-%m'))['amount_usd'].sum()\n",
    "expenses = df_2024[df_2024['amount_usd'] < 0].groupby(df_2024['date'].dt.strftime('%Y-%m'))['amount_usd'].sum()\n",
    "\n",
    "# Calculate savings (income + expenses, since expenses are negative)\n",
    "savings = income + expenses\n",
    "\n",
    "# Create the plot\n",
    "plt.figure(figsize=(15, 8))\n",
    "plt.bar(savings.index, savings.values, color='green')\n",
    "plt.title(f'Monthly Savings - {YEAR}')\n",
    "plt.xlabel('Month')\n",
    "plt.ylabel('Amount (USD)')\n",
    "plt.xticks(rotation=45)\n",
    "plt.grid(True, axis='y', linestyle='--', alpha=0.7)\n",
    "plt.tight_layout()\n",
    "plt.show()\n",
    "\n",
    "# Display the numerical values\n",
    "print(\"\\nMonthly Savings:\")\n",
    "print(savings)\n",
    "\n"
   ],
   "id": "82f4030d35e436ba",
   "outputs": [],
   "execution_count": null
  },
  {
   "metadata": {},
   "cell_type": "code",
   "source": "",
   "id": "7ce44b1e7ba7ddee",
   "outputs": [],
   "execution_count": null
  }
 ],
 "metadata": {
  "kernelspec": {
   "display_name": "Python 3",
   "language": "python",
   "name": "python3"
  },
  "language_info": {
   "codemirror_mode": {
    "name": "ipython",
    "version": 2
   },
   "file_extension": ".py",
   "mimetype": "text/x-python",
   "name": "python",
   "nbconvert_exporter": "python",
   "pygments_lexer": "ipython2",
   "version": "2.7.6"
  }
 },
 "nbformat": 4,
 "nbformat_minor": 5
}
